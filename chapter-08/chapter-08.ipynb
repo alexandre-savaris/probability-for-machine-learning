{
 "cells": [
  {
   "cell_type": "code",
   "execution_count": 17,
   "id": "618e7a7a-0280-4e89-bea2-3fae0d3317ea",
   "metadata": {},
   "outputs": [
    {
     "name": "stdout",
     "output_type": "stream",
     "text": [
      "33\n"
     ]
    }
   ],
   "source": [
    "from numpy.random import binomial\n",
    "p = 0.3\n",
    "k = 100\n",
    "success = binomial(k, p)\n",
    "print(success)"
   ]
  },
  {
   "cell_type": "code",
   "execution_count": 29,
   "id": "141fac01-e3f0-41c6-9656-61854725dec0",
   "metadata": {},
   "outputs": [
    {
     "name": "stdout",
     "output_type": "stream",
     "text": [
      "Mean=30.000, Variance=21.000\n"
     ]
    }
   ],
   "source": [
    "from scipy.stats import binom\n",
    "p = 0.3\n",
    "k = 100\n",
    "mean, var, _, _ = binom.stats(k, p, moments='mvsk')\n",
    "print('Mean=%.3f, Variance=%.3f' % ())"
   ]
  },
  {
   "cell_type": "code",
   "execution_count": 31,
   "id": "c92dbeb7-f9a6-4678-bea4-af16e72ecbc2",
   "metadata": {},
   "outputs": [
    {
     "name": "stdout",
     "output_type": "stream",
     "text": [
      "P of 10 success. 0.000%\n",
      "P of 20 success. 0.758%\n",
      "P of 30 success. 8.678%\n",
      "P of 40 success. 0.849%\n",
      "P of 50 success. 0.001%\n",
      "P of 60 success. 0.000%\n",
      "P of 70 success. 0.000%\n",
      "P of 80 success. 0.000%\n",
      "P of 90 success. 0.000%\n",
      "P of 100 success. 0.000%\n"
     ]
    }
   ],
   "source": [
    "from scipy.stats import binom\n",
    "p = 0.3\n",
    "k = 100\n",
    "dist = binom(k, p)\n",
    "for n in range(10, 110, 10):\n",
    "    print('P of %d success. %.3f%%' % (n, dist.pmf(n)*100))"
   ]
  },
  {
   "cell_type": "code",
   "execution_count": 33,
   "id": "9112a1ea-8144-4e03-b0b7-6b6d2eafb19f",
   "metadata": {},
   "outputs": [
    {
     "name": "stdout",
     "output_type": "stream",
     "text": [
      "P of 10 success: 0.000%\n",
      "P of 20 success: 1.646%\n",
      "P of 30 success: 54.912%\n",
      "P of 40 success: 98.750%\n",
      "P of 50 success: 99.999%\n",
      "P of 60 success: 100.000%\n",
      "P of 70 success: 100.000%\n",
      "P of 80 success: 100.000%\n",
      "P of 90 success: 100.000%\n",
      "P of 100 success: 100.000%\n"
     ]
    }
   ],
   "source": [
    "from scipy.stats import binom\n",
    "p = 0.3\n",
    "k = 100\n",
    "dist = binom(k, p)\n",
    "for n in range(10, 110, 10):\n",
    "    print('P of %d success: %.3f%%' % (n, dist.cdf(n)*100))"
   ]
  },
  {
   "cell_type": "code",
   "execution_count": 51,
   "id": "2d376518-650a-4c5a-9403-634968b66e1f",
   "metadata": {},
   "outputs": [
    {
     "name": "stdout",
     "output_type": "stream",
     "text": [
      "Case 1: 35\n",
      "Case 2: 30\n",
      "Case 3: 35\n"
     ]
    }
   ],
   "source": [
    "from numpy.random import multinomial\n",
    "p = [1.0/3.0, 1.0/3.0, 1.0/3.0]\n",
    "k = 100\n",
    "cases = multinomial(k, p)\n",
    "for i in range(len(cases)):\n",
    "    print('Case %d: %d' % (i+1, cases[i]))"
   ]
  },
  {
   "cell_type": "code",
   "execution_count": 73,
   "id": "d9f11ade-d4de-4bda-ac82-56d54387a4c5",
   "metadata": {},
   "outputs": [
    {
     "name": "stdout",
     "output_type": "stream",
     "text": [
      "Case=[33, 33, 34], Probability: 0.813%\n"
     ]
    }
   ],
   "source": [
    "from scipy.stats import multinomial\n",
    "p = [1.0/3.0, 1.0/3.0, 1.0/3.0]\n",
    "k = 100\n",
    "dist = multinomial(k, p)\n",
    "cases = [33, 33, 34]\n",
    "pr = dist.pmf(cases)\n",
    "print('Case=%s, Probability: %.3f%%' % (cases, pr*100))"
   ]
  }
 ],
 "metadata": {
  "kernelspec": {
   "display_name": "Python 3 (ipykernel)",
   "language": "python",
   "name": "python3"
  },
  "language_info": {
   "codemirror_mode": {
    "name": "ipython",
    "version": 3
   },
   "file_extension": ".py",
   "mimetype": "text/x-python",
   "name": "python",
   "nbconvert_exporter": "python",
   "pygments_lexer": "ipython3",
   "version": "3.12.7"
  }
 },
 "nbformat": 4,
 "nbformat_minor": 5
}
