{
 "cells": [
  {
   "cell_type": "code",
   "execution_count": 1,
   "id": "511ef4b6-282c-4a53-a3f3-3321c6a68af8",
   "metadata": {},
   "outputs": [
    {
     "name": "stdout",
     "output_type": "stream",
     "text": [
      "Probability: 0.8\n",
      "Odds: 4.0\n",
      "Probability: 0.8\n"
     ]
    }
   ],
   "source": [
    "prob = 0.8\n",
    "print('Probability: %.1f' % prob)\n",
    "odds = prob / (1 - prob)\n",
    "print('Odds: %.1f' % odds)\n",
    "prob = odds / (odds + 1)\n",
    "print('Probability: %.1f' % prob)"
   ]
  },
  {
   "cell_type": "code",
   "execution_count": 3,
   "id": "0c860b45-a86b-4a87-8256-9c2b7bc6a998",
   "metadata": {},
   "outputs": [
    {
     "name": "stdout",
     "output_type": "stream",
     "text": [
      "Probability: 0.8\n",
      "Odds: 4.0\n",
      "Log-Odds: 1.4\n",
      "Probability: 0.8\n"
     ]
    }
   ],
   "source": [
    "from math import log\n",
    "from math import exp\n",
    "prob = 0.8\n",
    "print('Probability: %.1f' % prob)\n",
    "odds = prob / (1 - prob)\n",
    "print('Odds: %.1f' % odds)\n",
    "logodds = log(odds)\n",
    "print('Log-Odds: %.1f' % logodds)\n",
    "prob = 1 / (1 + exp(-logodds))\n",
    "print('Probability: %.1f' % prob)"
   ]
  },
  {
   "cell_type": "code",
   "execution_count": 5,
   "id": "ade270b8-0b87-4b5b-b3ae-45714e45c48a",
   "metadata": {},
   "outputs": [
    {
     "name": "stdout",
     "output_type": "stream",
     "text": [
      "y=1.0, yhat=0.9, likelihood=0.900\n",
      "y=1.0, yhat=0.1, likelihood=0.100\n",
      "y=0.0, yhat=0.1, likelihood=0.900\n",
      "y=0.0, yhat=0.9, likelihood=0.100\n"
     ]
    }
   ],
   "source": [
    "def likelihood(y, yhat):\n",
    "    return yhat * y + (1 - yhat) * (1 - y)\n",
    "\n",
    "y, yhat = 1, 0.9\n",
    "print('y=%.1f, yhat=%.1f, likelihood=%.3f' % (y, yhat, likelihood(y, yhat)))\n",
    "y, yhat = 1, 0.1\n",
    "print('y=%.1f, yhat=%.1f, likelihood=%.3f' % (y, yhat, likelihood(y, yhat)))\n",
    "y, yhat = 0, 0.1\n",
    "print('y=%.1f, yhat=%.1f, likelihood=%.3f' % (y, yhat, likelihood(y, yhat)))\n",
    "y, yhat = 0, 0.9\n",
    "print('y=%.1f, yhat=%.1f, likelihood=%.3f' % (y, yhat, likelihood(y, yhat)))"
   ]
  }
 ],
 "metadata": {
  "kernelspec": {
   "display_name": "Python 3 (ipykernel)",
   "language": "python",
   "name": "python3"
  },
  "language_info": {
   "codemirror_mode": {
    "name": "ipython",
    "version": 3
   },
   "file_extension": ".py",
   "mimetype": "text/x-python",
   "name": "python",
   "nbconvert_exporter": "python",
   "pygments_lexer": "ipython3",
   "version": "3.12.7"
  }
 },
 "nbformat": 4,
 "nbformat_minor": 5
}
